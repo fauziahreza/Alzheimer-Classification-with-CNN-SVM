{
 "cells": [
  {
   "cell_type": "markdown",
   "metadata": {},
   "source": [
    "# **Train Test Split dengan Cross Validation**\n",
    "\n",
    "Melakukan 5-fold cross-validation dengan pembagian 70% training dan 30% testing\n",
    "\n",
    "---"
   ]
  },
  {
   "cell_type": "markdown",
   "metadata": {},
   "source": [
    "## 1. Import packages\n",
    "\n",
    "Import modul-modul yang diperlukan untuk pengolahan citra medis, termasuk pembacaan citra dengan `SimpleITK`, manipulasi array dengan `NumPy`, visualisasi dengan `Matplotlib`, dan perhitungan entropy dengan `scipy.stats`"
   ]
  },
  {
   "cell_type": "code",
   "execution_count": null,
   "metadata": {},
   "outputs": [],
   "source": [
    "import os\n",
    "import numpy as np\n",
    "from sklearn.model_selection import StratifiedKFold"
   ]
  },
  {
   "cell_type": "code",
   "execution_count": null,
   "metadata": {},
   "outputs": [],
   "source": [
    "file_path = 'D:/Documents/Kuliah/.SKRIPSI/KLASIFIKASI ALZHEIMER/Coding/Notebook/selected_slice.npz'\n",
    "base_path = 'D:/Documents/Kuliah/.SKRIPSI/KLASIFIKASI ALZHEIMER/Coding/Notebook'\n",
    "\n",
    "data_path = os.path.join(base_path, 'Data')\n",
    "if not os.path.exists(data_path):\n",
    "    os.makedirs(data_path)"
   ]
  },
  {
   "cell_type": "code",
   "execution_count": null,
   "metadata": {},
   "outputs": [],
   "source": [
    "loaded_data = np.load(file_path, allow_pickle=True)\n",
    "labels = loaded_data.files\n",
    "\n",
    "kfold = StratifiedKFold(n_splits=5, shuffle=True, random_state=42)\n",
    "\n",
    "for label in labels:\n",
    "    # Membuat direktori untuk label di dalam data\n",
    "    label_data_path = os.path.join(data_path, label)\n",
    "\n",
    "    # Mengecek dan membuat direktori jika belum ada\n",
    "    if not os.path.exists(label_data_path):\n",
    "        os.makedirs(label_data_path)\n",
    "\n",
    "    # Mengambil data untuk label tersebut\n",
    "    data_for_label = loaded_data[label]\n",
    "\n",
    "    # Mendapatkan indeks untuk K-Fold\n",
    "    for fold, (train_indices, test_indices) in enumerate(kfold.split(data_for_label, np.zeros(len(data_for_label)))):\n",
    "        # Membuat direktori untuk fold di dalam label_data_path\n",
    "        fold_path = os.path.join(label_data_path, f'Fold_{fold + 1}')\n",
    "        os.makedirs(fold_path)\n",
    "\n",
    "        # Membuat direktori untuk training dan testing\n",
    "        train_path = os.path.join(fold_path, 'Training')\n",
    "        test_path = os.path.join(fold_path, 'Testing')\n",
    "        for path in [train_path, test_path]:\n",
    "            os.makedirs(path)\n",
    "\n",
    "        # Split data berdasarkan indeks\n",
    "        train_data = data_for_label[train_indices]\n",
    "        test_data = data_for_label[test_indices]\n",
    "\n",
    "        # Pindahkan file ke dalam direktori training\n",
    "        for i, slice_data in enumerate(train_data):\n",
    "            file_name = f'slice{i + 1}.npy'\n",
    "            file_path = os.path.join(train_path, file_name)\n",
    "            np.save(file_path, slice_data)\n",
    "\n",
    "        # Pindahkan file ke dalam direktori testing\n",
    "        for i, slice_data in enumerate(test_data):\n",
    "            file_name = f'slice{i + 1}.npy'\n",
    "            file_path = os.path.join(test_path, file_name)\n",
    "            np.save(file_path, slice_data)"
   ]
  },
  {
   "cell_type": "code",
   "execution_count": null,
   "metadata": {},
   "outputs": [],
   "source": [
    "for label in labels:\n",
    "    # Mengambil data untuk label tersebut\n",
    "    data_for_label = loaded_data[label]\n",
    "\n",
    "    print(f\"Label: {label}, Jumlah data: {len(data_for_label)}\")\n",
    "\n",
    "    # Pengecekan ukuran setiap data\n",
    "    for i, slice_data in enumerate(data_for_label):\n",
    "        print(f\"Data ke-{i + 1}, Ukuran (Shape): {slice_data.shape}\")"
   ]
  }
 ],
 "metadata": {
  "kernelspec": {
   "display_name": "Python 3",
   "language": "python",
   "name": "python3"
  },
  "language_info": {
   "codemirror_mode": {
    "name": "ipython",
    "version": 3
   },
   "file_extension": ".py",
   "mimetype": "text/x-python",
   "name": "python",
   "nbconvert_exporter": "python",
   "pygments_lexer": "ipython3",
   "version": "3.8.6"
  }
 },
 "nbformat": 4,
 "nbformat_minor": 2
}
