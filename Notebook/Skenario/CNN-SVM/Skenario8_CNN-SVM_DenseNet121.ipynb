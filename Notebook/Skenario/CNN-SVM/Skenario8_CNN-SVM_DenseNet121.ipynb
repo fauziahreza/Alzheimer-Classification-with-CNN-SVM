{
 "cells": [
  {
   "cell_type": "markdown",
   "metadata": {},
   "source": [
    "# **Skenario 8 - CNN DenseNet121 - SVM**\n",
    "\n",
    "Skenario 8 menggunakan model Convolutional Neural Network (CNN) dengan arsitektur DenseNet121 sebagai ekstraksi fitur dan SVM sebagai algoritma untuk melakukan klasifikasi pada data citra otak.\n",
    "\n",
    "---"
   ]
  },
  {
   "cell_type": "markdown",
   "metadata": {},
   "source": [
    "## 1. Import packages\n",
    "\n",
    "Impor semua pustaka dan modul yang dibutuhkan untuk pemrosesan data, visualisasi, pembuatan model, dan pelatihan model"
   ]
  },
  {
   "cell_type": "code",
   "execution_count": 1,
   "metadata": {},
   "outputs": [
    {
     "name": "stdout",
     "output_type": "stream",
     "text": [
      "WARNING:tensorflow:From c:\\Users\\Administrator\\AppData\\Local\\Programs\\Python\\Python310\\lib\\site-packages\\keras\\src\\losses.py:2976: The name tf.losses.sparse_softmax_cross_entropy is deprecated. Please use tf.compat.v1.losses.sparse_softmax_cross_entropy instead.\n",
      "\n"
     ]
    }
   ],
   "source": [
    "import numpy as np\n",
    "import pandas as pd\n",
    "import os\n",
    "import cv2\n",
    "import seaborn as sns\n",
    "import matplotlib.pyplot as plt\n",
    "import gc\n",
    "import pickle\n",
    "\n",
    "# Scikit-learn imports\n",
    "from sklearn.model_selection import StratifiedKFold, train_test_split\n",
    "from sklearn.model_selection import KFold\n",
    "from sklearn.svm import SVC\n",
    "from sklearn.metrics import accuracy_score, classification_report, confusion_matrix, roc_curve, auc\n",
    "from sklearn.model_selection import cross_val_score, cross_val_predict\n",
    "\n",
    "\n",
    "# TensorFlow and Keras imports\n",
    "import tensorflow as tf\n",
    "from keras import layers, models, optimizers\n",
    "from keras.utils import to_categorical\n",
    "from keras.models import Model"
   ]
  },
  {
   "cell_type": "markdown",
   "metadata": {},
   "source": [
    "## 2. Data Preparation"
   ]
  },
  {
   "cell_type": "markdown",
   "metadata": {},
   "source": [
    "### 2.1 Load dan Eksplorasi Data\n",
    "Load dan proses data `image_selected.npz`"
   ]
  },
  {
   "cell_type": "code",
   "execution_count": 2,
   "metadata": {},
   "outputs": [],
   "source": [
    "def load_and_preprocess_data(preprocess_images=True):\n",
    "    base_dir = r\"D:\\Users\\RESA\\Coding\\Alzheimer-Classification-with-CNN-SVM\\Notebook\\Preprocessing\\image_selected.npz\"\n",
    "    \n",
    "    # Load data from the NPZ file\n",
    "    loaded_data = np.load(base_dir, allow_pickle=True)\n",
    "    loaded_combined_slices = loaded_data[list(loaded_data.keys())[0]]\n",
    "\n",
    "    # Prepare lists for input (X) and output (Y) data\n",
    "    X = []\n",
    "    Y = []\n",
    "\n",
    "    # Create a label mapping for each class\n",
    "    label_mapping = {'AD': 0, 'CN': 1, 'EMCI': 2, 'LMCI': 3}\n",
    "\n",
    "    # Iterate through the loaded data\n",
    "    for label, plane_slices in loaded_combined_slices.item().items():\n",
    "        for plane, slices in plane_slices.items():\n",
    "            for selected_slice in slices:\n",
    "                position, original_slice = selected_slice\n",
    "\n",
    "                if preprocess_images:\n",
    "                    # Expand dimensions and repeat for RGB representation\n",
    "                    original_slice = np.expand_dims(original_slice, axis=-1)\n",
    "                    original_slice = np.repeat(original_slice, 3, axis=-1)\n",
    "\n",
    "                    # Min-Max Scaling to bring pixel values to the range [0, 1]\n",
    "                    min_val = np.min(original_slice)\n",
    "                    max_val = np.max(original_slice)\n",
    "                    original_slice = (original_slice - min_val) / (max_val - min_val)\n",
    "\n",
    "                X.append(original_slice)\n",
    "                Y.append(label_mapping[label])\n",
    "\n",
    "    # Convert lists to NumPy arrays\n",
    "    X = np.array(X) \n",
    "    Y = np.array(Y)\n",
    "\n",
    "    return X, Y"
   ]
  },
  {
   "cell_type": "code",
   "execution_count": 3,
   "metadata": {},
   "outputs": [],
   "source": [
    "# Panggil fungsi dan simpan ke X, Y\n",
    "X, Y = load_and_preprocess_data()"
   ]
  },
  {
   "cell_type": "code",
   "execution_count": 4,
   "metadata": {},
   "outputs": [
    {
     "name": "stdout",
     "output_type": "stream",
     "text": [
      "X shape: (7200, 224, 224, 3)\n",
      "Y shape: (7200,)\n"
     ]
    }
   ],
   "source": [
    "print(\"X shape:\", X.shape)\n",
    "print(\"Y shape:\", Y.shape)"
   ]
  },
  {
   "cell_type": "code",
   "execution_count": 5,
   "metadata": {},
   "outputs": [],
   "source": [
    "class_names = [\"AD\", \"CN\", \"EMCI\", \"LMCI\"]"
   ]
  },
  {
   "cell_type": "markdown",
   "metadata": {},
   "source": [
    "### 2.2 Pembagian Data\n",
    "Data dibagi dengan rasio 80:20 "
   ]
  },
  {
   "cell_type": "code",
   "execution_count": 6,
   "metadata": {},
   "outputs": [],
   "source": [
    "X_train, X_test, Y_train, Y_test = train_test_split(X, Y, test_size=0.2, random_state=42)"
   ]
  },
  {
   "cell_type": "markdown",
   "metadata": {},
   "source": [
    "cek shape dan jumlah data"
   ]
  },
  {
   "cell_type": "code",
   "execution_count": 7,
   "metadata": {},
   "outputs": [
    {
     "name": "stdout",
     "output_type": "stream",
     "text": [
      "Dimensi X_train: (5760, 224, 224, 3)\n",
      "Dimensi Y_train: (5760,)\n",
      "Dimensi X_test: (1440, 224, 224, 3)\n",
      "Dimensi Y_test: (1440,)\n"
     ]
    }
   ],
   "source": [
    "print(\"Dimensi X_train:\", X_train.shape)\n",
    "print(\"Dimensi Y_train:\", Y_train.shape)\n",
    "print(\"Dimensi X_test:\", X_test.shape)\n",
    "print(\"Dimensi Y_test:\", Y_test.shape)"
   ]
  },
  {
   "cell_type": "code",
   "execution_count": 8,
   "metadata": {},
   "outputs": [
    {
     "name": "stdout",
     "output_type": "stream",
     "text": [
      "Jumlah sampel dalam X_train: 5760\n",
      "Jumlah sampel dalam Y_train: 5760\n",
      "Jumlah sampel dalam X_test: 1440\n",
      "Jumlah sampel dalam Y_test: 1440\n"
     ]
    }
   ],
   "source": [
    "print(\"Jumlah sampel dalam X_train:\", len(X_train))\n",
    "print(\"Jumlah sampel dalam Y_train:\", len(Y_train))\n",
    "print(\"Jumlah sampel dalam X_test:\", len(X_test))\n",
    "print(\"Jumlah sampel dalam Y_test:\", len(Y_test))"
   ]
  },
  {
   "cell_type": "markdown",
   "metadata": {},
   "source": [
    "## 3. Buat dan Konfigurasi Model Ekstraksi Fitur\n",
    "Arsitektur yang digunakan sebagai ekstraksi fitur adalah DenseNet121 yang merupakan dari transfer learning yaitu arsitektur yang sudah dilatih dengan data ImageNet"
   ]
  },
  {
   "cell_type": "code",
   "execution_count": 9,
   "metadata": {},
   "outputs": [],
   "source": [
    "from keras import backend as K\n",
    "\n",
    "def specificity(y_true, y_pred):\n",
    "    true_negatives = K.sum(K.round(K.clip((1 - y_true) * (1 - y_pred), 0, 1)))\n",
    "    possible_negatives = K.sum(K.round(K.clip(1 - y_true, 0, 1)))\n",
    "    return true_negatives / (possible_negatives + K.epsilon())\n",
    "\n",
    "def sensitivity(y_true, y_pred):\n",
    "    true_positives = K.sum(K.round(K.clip(y_true * y_pred, 0, 1)))\n",
    "    possible_positives = K.sum(K.round(K.clip(y_true, 0, 1)))\n",
    "    return true_positives / (possible_positives + K.epsilon())"
   ]
  },
  {
   "cell_type": "markdown",
   "metadata": {},
   "source": [
    "Load model yang udah dilatih sebelumnya"
   ]
  },
  {
   "cell_type": "code",
   "execution_count": 10,
   "metadata": {},
   "outputs": [
    {
     "name": "stdout",
     "output_type": "stream",
     "text": [
      "WARNING:tensorflow:From c:\\Users\\Administrator\\AppData\\Local\\Programs\\Python\\Python310\\lib\\site-packages\\keras\\src\\backend.py:1398: The name tf.executing_eagerly_outside_functions is deprecated. Please use tf.compat.v1.executing_eagerly_outside_functions instead.\n",
      "\n",
      "WARNING:tensorflow:From c:\\Users\\Administrator\\AppData\\Local\\Programs\\Python\\Python310\\lib\\site-packages\\keras\\src\\layers\\pooling\\max_pooling2d.py:161: The name tf.nn.max_pool is deprecated. Please use tf.nn.max_pool2d instead.\n",
      "\n"
     ]
    }
   ],
   "source": [
    "from keras.models import load_model\n",
    "\n",
    "model_path = r\"D:\\Users\\RESA\\Coding\\Evaluasi\\DenseNet121.h5\"\n",
    "loaded_model = load_model(model_path, custom_objects={'specificity': specificity, 'sensitivity': sensitivity})"
   ]
  },
  {
   "cell_type": "code",
   "execution_count": 11,
   "metadata": {},
   "outputs": [
    {
     "name": "stdout",
     "output_type": "stream",
     "text": [
      "180/180 [==============================] - 99s 543ms/step\n",
      "45/45 [==============================] - 25s 551ms/step\n",
      "Shape of train features: (5760, 1024)\n",
      "Shape of test features: (1440, 1024)\n"
     ]
    }
   ],
   "source": [
    "extractCNN = Model(loaded_model.inputs, loaded_model.layers[-2].output)\n",
    "feat_trainCNN = extractCNN.predict(X_train)\n",
    "feat_testCNN = extractCNN.predict(X_test)\n",
    "print(\"Shape of train features:\", feat_trainCNN.shape)\n",
    "print(\"Shape of test features:\", feat_testCNN.shape)"
   ]
  },
  {
   "cell_type": "markdown",
   "metadata": {},
   "source": [
    "Reshape fitur"
   ]
  },
  {
   "cell_type": "code",
   "execution_count": 12,
   "metadata": {},
   "outputs": [],
   "source": [
    "flat_feat_trainCNN = feat_trainCNN.reshape((feat_trainCNN.shape[0], -1))\n",
    "flat_feat_testCNN = feat_testCNN.reshape((feat_testCNN.shape[0], -1))"
   ]
  },
  {
   "cell_type": "code",
   "execution_count": 13,
   "metadata": {},
   "outputs": [
    {
     "name": "stdout",
     "output_type": "stream",
     "text": [
      "Dimensi train sebelum reshaping: (5760, 1024)\n",
      "Dimensi train setelah reshaping: (5760, 1024)\n",
      "Dimensi test sebelum reshaping: (1440, 1024)\n",
      "Dimensi test setelah reshaping: (1440, 1024)\n"
     ]
    }
   ],
   "source": [
    "print(\"Dimensi train sebelum reshaping:\", feat_trainCNN.shape)\n",
    "print(\"Dimensi train setelah reshaping:\", flat_feat_trainCNN.shape)\n",
    "print(\"Dimensi test sebelum reshaping:\", feat_testCNN.shape)\n",
    "print(\"Dimensi test setelah reshaping:\", flat_feat_testCNN.shape)"
   ]
  },
  {
   "cell_type": "markdown",
   "metadata": {},
   "source": [
    "## 5. Training Model - Cross Validation\n",
    "Latih model dengan data `X_train dan Y_train` dan menguji kinerja model pada data validasi `X_test dan Y_test`, setelah pelatihan nanti model akan menyimpan riwayatnya ke dalam `h_model`"
   ]
  },
  {
   "cell_type": "markdown",
   "metadata": {},
   "source": [
    "### 5.1 Kernel RBF"
   ]
  },
  {
   "cell_type": "markdown",
   "metadata": {},
   "source": [
    "Training"
   ]
  },
  {
   "cell_type": "code",
   "execution_count": 14,
   "metadata": {},
   "outputs": [
    {
     "name": "stdout",
     "output_type": "stream",
     "text": [
      "Skor Akurasi untuk Setiap Fold:\n",
      "[0.70399306 0.73611111 0.73177083 0.74305556 0.7109375 ]\n",
      "\n",
      "Rata-rata Skor Akurasi:\n",
      "0.7251736111111111\n"
     ]
    }
   ],
   "source": [
    "svm_rbf = SVC(kernel='rbf', probability=True, decision_function_shape='ovr')\n",
    "scores_rbf = cross_val_score(svm_rbf, flat_feat_trainCNN, Y_train, cv=5, scoring='accuracy')\n",
    "svm_rbf.fit(flat_feat_trainCNN, Y_train) \n",
    "print(\"Skor Akurasi untuk Setiap Fold:\")\n",
    "print(scores_rbf)\n",
    "print(\"\\nRata-rata Skor Akurasi:\")\n",
    "print(scores_rbf.mean())"
   ]
  },
  {
   "cell_type": "code",
   "execution_count": 15,
   "metadata": {},
   "outputs": [
    {
     "data": {
      "text/html": [
       "<style>#sk-container-id-1 {color: black;}#sk-container-id-1 pre{padding: 0;}#sk-container-id-1 div.sk-toggleable {background-color: white;}#sk-container-id-1 label.sk-toggleable__label {cursor: pointer;display: block;width: 100%;margin-bottom: 0;padding: 0.3em;box-sizing: border-box;text-align: center;}#sk-container-id-1 label.sk-toggleable__label-arrow:before {content: \"▸\";float: left;margin-right: 0.25em;color: #696969;}#sk-container-id-1 label.sk-toggleable__label-arrow:hover:before {color: black;}#sk-container-id-1 div.sk-estimator:hover label.sk-toggleable__label-arrow:before {color: black;}#sk-container-id-1 div.sk-toggleable__content {max-height: 0;max-width: 0;overflow: hidden;text-align: left;background-color: #f0f8ff;}#sk-container-id-1 div.sk-toggleable__content pre {margin: 0.2em;color: black;border-radius: 0.25em;background-color: #f0f8ff;}#sk-container-id-1 input.sk-toggleable__control:checked~div.sk-toggleable__content {max-height: 200px;max-width: 100%;overflow: auto;}#sk-container-id-1 input.sk-toggleable__control:checked~label.sk-toggleable__label-arrow:before {content: \"▾\";}#sk-container-id-1 div.sk-estimator input.sk-toggleable__control:checked~label.sk-toggleable__label {background-color: #d4ebff;}#sk-container-id-1 div.sk-label input.sk-toggleable__control:checked~label.sk-toggleable__label {background-color: #d4ebff;}#sk-container-id-1 input.sk-hidden--visually {border: 0;clip: rect(1px 1px 1px 1px);clip: rect(1px, 1px, 1px, 1px);height: 1px;margin: -1px;overflow: hidden;padding: 0;position: absolute;width: 1px;}#sk-container-id-1 div.sk-estimator {font-family: monospace;background-color: #f0f8ff;border: 1px dotted black;border-radius: 0.25em;box-sizing: border-box;margin-bottom: 0.5em;}#sk-container-id-1 div.sk-estimator:hover {background-color: #d4ebff;}#sk-container-id-1 div.sk-parallel-item::after {content: \"\";width: 100%;border-bottom: 1px solid gray;flex-grow: 1;}#sk-container-id-1 div.sk-label:hover label.sk-toggleable__label {background-color: #d4ebff;}#sk-container-id-1 div.sk-serial::before {content: \"\";position: absolute;border-left: 1px solid gray;box-sizing: border-box;top: 0;bottom: 0;left: 50%;z-index: 0;}#sk-container-id-1 div.sk-serial {display: flex;flex-direction: column;align-items: center;background-color: white;padding-right: 0.2em;padding-left: 0.2em;position: relative;}#sk-container-id-1 div.sk-item {position: relative;z-index: 1;}#sk-container-id-1 div.sk-parallel {display: flex;align-items: stretch;justify-content: center;background-color: white;position: relative;}#sk-container-id-1 div.sk-item::before, #sk-container-id-1 div.sk-parallel-item::before {content: \"\";position: absolute;border-left: 1px solid gray;box-sizing: border-box;top: 0;bottom: 0;left: 50%;z-index: -1;}#sk-container-id-1 div.sk-parallel-item {display: flex;flex-direction: column;z-index: 1;position: relative;background-color: white;}#sk-container-id-1 div.sk-parallel-item:first-child::after {align-self: flex-end;width: 50%;}#sk-container-id-1 div.sk-parallel-item:last-child::after {align-self: flex-start;width: 50%;}#sk-container-id-1 div.sk-parallel-item:only-child::after {width: 0;}#sk-container-id-1 div.sk-dashed-wrapped {border: 1px dashed gray;margin: 0 0.4em 0.5em 0.4em;box-sizing: border-box;padding-bottom: 0.4em;background-color: white;}#sk-container-id-1 div.sk-label label {font-family: monospace;font-weight: bold;display: inline-block;line-height: 1.2em;}#sk-container-id-1 div.sk-label-container {text-align: center;}#sk-container-id-1 div.sk-container {/* jupyter's `normalize.less` sets `[hidden] { display: none; }` but bootstrap.min.css set `[hidden] { display: none !important; }` so we also need the `!important` here to be able to override the default hidden behavior on the sphinx rendered scikit-learn.org. See: https://github.com/scikit-learn/scikit-learn/issues/21755 */display: inline-block !important;position: relative;}#sk-container-id-1 div.sk-text-repr-fallback {display: none;}</style><div id=\"sk-container-id-1\" class=\"sk-top-container\"><div class=\"sk-text-repr-fallback\"><pre>SVC(probability=True)</pre><b>In a Jupyter environment, please rerun this cell to show the HTML representation or trust the notebook. <br />On GitHub, the HTML representation is unable to render, please try loading this page with nbviewer.org.</b></div><div class=\"sk-container\" hidden><div class=\"sk-item\"><div class=\"sk-estimator sk-toggleable\"><input class=\"sk-toggleable__control sk-hidden--visually\" id=\"sk-estimator-id-1\" type=\"checkbox\" checked><label for=\"sk-estimator-id-1\" class=\"sk-toggleable__label sk-toggleable__label-arrow\">SVC</label><div class=\"sk-toggleable__content\"><pre>SVC(probability=True)</pre></div></div></div></div></div>"
      ],
      "text/plain": [
       "SVC(probability=True)"
      ]
     },
     "execution_count": 15,
     "metadata": {},
     "output_type": "execute_result"
    }
   ],
   "source": [
    "best_rbf_fold_index = np.argmax(scores_rbf)\n",
    "\n",
    "# Buat model untuk fold terbaik dan fit model\n",
    "best_svm_rbf = SVC(kernel='rbf', probability=True, decision_function_shape='ovr')\n",
    "best_svm_rbf.fit(flat_feat_trainCNN, Y_train)"
   ]
  },
  {
   "cell_type": "code",
   "execution_count": 16,
   "metadata": {},
   "outputs": [
    {
     "name": "stdout",
     "output_type": "stream",
     "text": [
      "Model telah dilatih.\n"
     ]
    }
   ],
   "source": [
    "if best_svm_rbf.n_support_.any() > 0:\n",
    "    print(\"Model telah dilatih.\")\n",
    "else:\n",
    "    print(\"Model belum dilatih atau terdapat masalah saat pelatihan.\")"
   ]
  },
  {
   "cell_type": "markdown",
   "metadata": {},
   "source": [
    "Simpan model"
   ]
  },
  {
   "cell_type": "code",
   "execution_count": 17,
   "metadata": {},
   "outputs": [],
   "source": [
    "model_svm_rbf = r\"D:/Users/RESA/Coding/Evaluasi/densenet121_svm_model_rbf.pkl\"\n",
    "with open(model_svm_rbf, 'wb') as model_file:\n",
    "    pickle.dump(best_svm_rbf, model_file)"
   ]
  },
  {
   "cell_type": "markdown",
   "metadata": {},
   "source": [
    "Testing"
   ]
  },
  {
   "cell_type": "code",
   "execution_count": 18,
   "metadata": {},
   "outputs": [
    {
     "name": "stdout",
     "output_type": "stream",
     "text": [
      "Label Sebenarnya:\n",
      "[1 1 2 ... 3 1 1]\n",
      "\n",
      "Label Prediksi:\n",
      "[1 1 2 ... 1 1 1]\n",
      "\n",
      "Akurasi pada Data Uji: 0.7611111111111111\n"
     ]
    }
   ],
   "source": [
    "svm_rbf.fit(flat_feat_trainCNN, Y_train)\n",
    "predictions_test = svm_rbf.predict(flat_feat_testCNN)\n",
    "print(\"Label Sebenarnya:\")\n",
    "print(Y_test)\n",
    "print(\"\\nLabel Prediksi:\")\n",
    "print(predictions_test)\n",
    "accuracy_test = np.mean(predictions_test == Y_test)\n",
    "print(\"\\nAkurasi pada Data Uji:\", accuracy_test)"
   ]
  },
  {
   "cell_type": "markdown",
   "metadata": {},
   "source": [
    "Evaluasi"
   ]
  },
  {
   "cell_type": "code",
   "execution_count": 19,
   "metadata": {},
   "outputs": [
    {
     "name": "stdout",
     "output_type": "stream",
     "text": [
      "Classification Report:\n",
      "              precision    recall  f1-score   support\n",
      "\n",
      "           0       0.83      0.81      0.82       380\n",
      "           1       0.72      0.75      0.73       338\n",
      "           2       0.72      0.80      0.75       363\n",
      "           3       0.79      0.69      0.73       359\n",
      "\n",
      "    accuracy                           0.76      1440\n",
      "   macro avg       0.76      0.76      0.76      1440\n",
      "weighted avg       0.76      0.76      0.76      1440\n",
      "\n"
     ]
    }
   ],
   "source": [
    "#  Classification report data test\n",
    "predictions_test = svm_rbf.predict(flat_feat_testCNN)\n",
    "\n",
    "# Membuat classification report\n",
    "classification_rep = classification_report(Y_test, predictions_test)\n",
    "print(\"Classification Report:\")\n",
    "print(classification_rep)"
   ]
  },
  {
   "cell_type": "code",
   "execution_count": 20,
   "metadata": {},
   "outputs": [
    {
     "name": "stdout",
     "output_type": "stream",
     "text": [
      "Classification Report untuk Data Pelatihan:\n",
      "              precision    recall  f1-score   support\n",
      "\n",
      "           0       0.91      0.90      0.90      1420\n",
      "           1       0.91      0.89      0.90      1462\n",
      "           2       0.85      0.92      0.88      1437\n",
      "           3       0.93      0.88      0.91      1441\n",
      "\n",
      "    accuracy                           0.90      5760\n",
      "   macro avg       0.90      0.90      0.90      5760\n",
      "weighted avg       0.90      0.90      0.90      5760\n",
      "\n"
     ]
    }
   ],
   "source": [
    "#  Classification report data train\n",
    "\n",
    "predictions_train = svm_rbf.predict(flat_feat_trainCNN)\n",
    "classification_rep_train = classification_report(Y_train, predictions_train)\n",
    "print(\"Classification Report untuk Data Pelatihan:\")\n",
    "print(classification_rep_train)"
   ]
  },
  {
   "cell_type": "code",
   "execution_count": 21,
   "metadata": {},
   "outputs": [
    {
     "data": {
      "image/png": "[encoded data removed]",
      "text/plain": [
       "<Figure size 800x500 with 1 Axes>"
      ]
     },
     "metadata": {},
     "output_type": "display_data"
    }
   ],
   "source": [
    "plt.figure(figsize=(8, 5))\n",
    "plt.plot(range(1, 6), scores_rbf, marker='o', linestyle='-', color='blue')\n",
    "plt.xlabel('Fold')\n",
    "plt.ylabel('Accuracy Score')\n",
    "plt.title('Cross-Validation Scores')\n",
    "plt.grid(True)\n",
    "plt.show()"
   ]
  },
  {
   "cell_type": "code",
   "execution_count": 22,
   "metadata": {},
   "outputs": [
    {
     "data": {
      "image/png": "[encoded data removed]",
      "text/plain": [
       "<Figure size 640x480 with 2 Axes>"
      ]
     },
     "metadata": {},
     "output_type": "display_data"
    }
   ],
   "source": [
    "predictions_test = svm_rbf.predict(flat_feat_testCNN)\n",
    "\n",
    "conf_matrix_rbf = confusion_matrix(Y_test, predictions_test)\n",
    "\n",
    "# Membuat heatmap untuk confusion matrix\n",
    "sns.heatmap(conf_matrix_rbf, annot=True, fmt='g', cmap=\"viridis\", xticklabels=class_names, yticklabels=class_names)\n",
    "plt.title('Confusion Matrix')\n",
    "plt.xlabel('Prediksi Model')\n",
    "plt.ylabel('Label Sebenarnya')\n",
    "plt.show()"
   ]
  },
  {
   "cell_type": "code",
   "execution_count": 23,
   "metadata": {},
   "outputs": [
    {
     "name": "stdout",
     "output_type": "stream",
     "text": [
      "Sensitivity: 0.9205776173285198\n",
      "Specificity: 0.9161676646706587\n"
     ]
    }
   ],
   "source": [
    "sensitivity = conf_matrix_rbf[1, 1] / (conf_matrix_rbf[1, 0] + conf_matrix_rbf[1, 1])\n",
    "specificity = conf_matrix_rbf[0, 0] / (conf_matrix_rbf[0, 0] + conf_matrix_rbf[0, 1])\n",
    "\n",
    "print(\"Sensitivity:\", sensitivity)\n",
    "print(\"Specificity:\", specificity)"
   ]
  },
  {
   "cell_type": "code",
   "execution_count": 24,
   "metadata": {},
   "outputs": [
    {
     "name": "stdout",
     "output_type": "stream",
     "text": [
      "Sensitivity untuk Data Pelatihan: 0.9635958395245171\n",
      "Specificity untuk Data Pelatihan: 0.9673748103186647\n"
     ]
    }
   ],
   "source": [
    "# Data train\n",
    "\n",
    "predictions_train = svm_rbf.predict(flat_feat_trainCNN)\n",
    "conf_matrix_train = confusion_matrix(Y_train, predictions_train)\n",
    "sensitivity_train = conf_matrix_train[1, 1] / (conf_matrix_train[1, 0] + conf_matrix_train[1, 1])\n",
    "specificity_train = conf_matrix_train[0, 0] / (conf_matrix_train[0, 0] + conf_matrix_train[0, 1])\n",
    "\n",
    "# Menampilkan hasil\n",
    "print(\"Sensitivity untuk Data Pelatihan:\", sensitivity_train)\n",
    "print(\"Specificity untuk Data Pelatihan:\", specificity_train)"
   ]
  },
  {
   "cell_type": "markdown",
   "metadata": {},
   "source": [
    "### 5.2 Kernel Polinomial"
   ]
  },
  {
   "cell_type": "markdown",
   "metadata": {},
   "source": [
    "Training"
   ]
  },
  {
   "cell_type": "code",
   "execution_count": 25,
   "metadata": {},
   "outputs": [
    {
     "name": "stdout",
     "output_type": "stream",
     "text": [
      "Skor Akurasi untuk Setiap Fold:\n",
      "[0.77690972 0.8046875  0.80989583 0.8125     0.78385417]\n",
      "\n",
      "Rata-rata Skor Akurasi:\n",
      "0.7975694444444444\n"
     ]
    }
   ],
   "source": [
    "svm_poly = SVC(kernel='poly', probability=True, decision_function_shape='ovr')\n",
    "scores_poly = cross_val_score(svm_poly, flat_feat_trainCNN, Y_train, cv=5, scoring='accuracy')\n",
    "svm_poly.fit(flat_feat_trainCNN, Y_train) \n",
    "print(\"Skor Akurasi untuk Setiap Fold:\")\n",
    "print(scores_poly)\n",
    "print(\"\\nRata-rata Skor Akurasi:\")\n",
    "print(scores_poly.mean())"
   ]
  },
  {
   "cell_type": "code",
   "execution_count": 26,
   "metadata": {},
   "outputs": [
    {
     "data": {
      "text/html": [
       "<style>#sk-container-id-2 {color: black;}#sk-container-id-2 pre{padding: 0;}#sk-container-id-2 div.sk-toggleable {background-color: white;}#sk-container-id-2 label.sk-toggleable__label {cursor: pointer;display: block;width: 100%;margin-bottom: 0;padding: 0.3em;box-sizing: border-box;text-align: center;}#sk-container-id-2 label.sk-toggleable__label-arrow:before {content: \"▸\";float: left;margin-right: 0.25em;color: #696969;}#sk-container-id-2 label.sk-toggleable__label-arrow:hover:before {color: black;}#sk-container-id-2 div.sk-estimator:hover label.sk-toggleable__label-arrow:before {color: black;}#sk-container-id-2 div.sk-toggleable__content {max-height: 0;max-width: 0;overflow: hidden;text-align: left;background-color: #f0f8ff;}#sk-container-id-2 div.sk-toggleable__content pre {margin: 0.2em;color: black;border-radius: 0.25em;background-color: #f0f8ff;}#sk-container-id-2 input.sk-toggleable__control:checked~div.sk-toggleable__content {max-height: 200px;max-width: 100%;overflow: auto;}#sk-container-id-2 input.sk-toggleable__control:checked~label.sk-toggleable__label-arrow:before {content: \"▾\";}#sk-container-id-2 div.sk-estimator input.sk-toggleable__control:checked~label.sk-toggleable__label {background-color: #d4ebff;}#sk-container-id-2 div.sk-label input.sk-toggleable__control:checked~label.sk-toggleable__label {background-color: #d4ebff;}#sk-container-id-2 input.sk-hidden--visually {border: 0;clip: rect(1px 1px 1px 1px);clip: rect(1px, 1px, 1px, 1px);height: 1px;margin: -1px;overflow: hidden;padding: 0;position: absolute;width: 1px;}#sk-container-id-2 div.sk-estimator {font-family: monospace;background-color: #f0f8ff;border: 1px dotted black;border-radius: 0.25em;box-sizing: border-box;margin-bottom: 0.5em;}#sk-container-id-2 div.sk-estimator:hover {background-color: #d4ebff;}#sk-container-id-2 div.sk-parallel-item::after {content: \"\";width: 100%;border-bottom: 1px solid gray;flex-grow: 1;}#sk-container-id-2 div.sk-label:hover label.sk-toggleable__label {background-color: #d4ebff;}#sk-container-id-2 div.sk-serial::before {content: \"\";position: absolute;border-left: 1px solid gray;box-sizing: border-box;top: 0;bottom: 0;left: 50%;z-index: 0;}#sk-container-id-2 div.sk-serial {display: flex;flex-direction: column;align-items: center;background-color: white;padding-right: 0.2em;padding-left: 0.2em;position: relative;}#sk-container-id-2 div.sk-item {position: relative;z-index: 1;}#sk-container-id-2 div.sk-parallel {display: flex;align-items: stretch;justify-content: center;background-color: white;position: relative;}#sk-container-id-2 div.sk-item::before, #sk-container-id-2 div.sk-parallel-item::before {content: \"\";position: absolute;border-left: 1px solid gray;box-sizing: border-box;top: 0;bottom: 0;left: 50%;z-index: -1;}#sk-container-id-2 div.sk-parallel-item {display: flex;flex-direction: column;z-index: 1;position: relative;background-color: white;}#sk-container-id-2 div.sk-parallel-item:first-child::after {align-self: flex-end;width: 50%;}#sk-container-id-2 div.sk-parallel-item:last-child::after {align-self: flex-start;width: 50%;}#sk-container-id-2 div.sk-parallel-item:only-child::after {width: 0;}#sk-container-id-2 div.sk-dashed-wrapped {border: 1px dashed gray;margin: 0 0.4em 0.5em 0.4em;box-sizing: border-box;padding-bottom: 0.4em;background-color: white;}#sk-container-id-2 div.sk-label label {font-family: monospace;font-weight: bold;display: inline-block;line-height: 1.2em;}#sk-container-id-2 div.sk-label-container {text-align: center;}#sk-container-id-2 div.sk-container {/* jupyter's `normalize.less` sets `[hidden] { display: none; }` but bootstrap.min.css set `[hidden] { display: none !important; }` so we also need the `!important` here to be able to override the default hidden behavior on the sphinx rendered scikit-learn.org. See: https://github.com/scikit-learn/scikit-learn/issues/21755 */display: inline-block !important;position: relative;}#sk-container-id-2 div.sk-text-repr-fallback {display: none;}</style><div id=\"sk-container-id-2\" class=\"sk-top-container\"><div class=\"sk-text-repr-fallback\"><pre>SVC(kernel=&#x27;poly&#x27;, probability=True)</pre><b>In a Jupyter environment, please rerun this cell to show the HTML representation or trust the notebook. <br />On GitHub, the HTML representation is unable to render, please try loading this page with nbviewer.org.</b></div><div class=\"sk-container\" hidden><div class=\"sk-item\"><div class=\"sk-estimator sk-toggleable\"><input class=\"sk-toggleable__control sk-hidden--visually\" id=\"sk-estimator-id-2\" type=\"checkbox\" checked><label for=\"sk-estimator-id-2\" class=\"sk-toggleable__label sk-toggleable__label-arrow\">SVC</label><div class=\"sk-toggleable__content\"><pre>SVC(kernel=&#x27;poly&#x27;, probability=True)</pre></div></div></div></div></div>"
      ],
      "text/plain": [
       "SVC(kernel='poly', probability=True)"
      ]
     },
     "execution_count": 26,
     "metadata": {},
     "output_type": "execute_result"
    }
   ],
   "source": [
    "best_poly_fold_index = np.argmax(scores_poly)\n",
    "\n",
    "# Buat model untuk fold terbaik dan fit model\n",
    "best_svm_poly = SVC(kernel='poly', probability=True, decision_function_shape='ovr')\n",
    "best_svm_poly.fit(flat_feat_trainCNN, Y_train)"
   ]
  },
  {
   "cell_type": "code",
   "execution_count": 27,
   "metadata": {},
   "outputs": [
    {
     "name": "stdout",
     "output_type": "stream",
     "text": [
      "Model telah dilatih.\n"
     ]
    }
   ],
   "source": [
    "if best_svm_poly.n_support_.any() > 0:\n",
    "    print(\"Model telah dilatih.\")\n",
    "else:\n",
    "    print(\"Model belum dilatih atau terdapat masalah saat pelatihan.\")"
   ]
  },
  {
   "cell_type": "markdown",
   "metadata": {},
   "source": [
    "Simpan model"
   ]
  },
  {
   "cell_type": "code",
   "execution_count": 28,
   "metadata": {},
   "outputs": [],
   "source": [
    "model_svm_poly = r\"D:/Users/RESA/Coding/Evaluasi/densenet121_svm_model_poly.pkl\"\n",
    "with open(model_svm_poly, 'wb') as model_file:\n",
    "    pickle.dump(best_svm_poly, model_file)"
   ]
  },
  {
   "cell_type": "markdown",
   "metadata": {},
   "source": [
    "Testing"
   ]
  },
  {
   "cell_type": "code",
   "execution_count": 29,
   "metadata": {},
   "outputs": [
    {
     "name": "stdout",
     "output_type": "stream",
     "text": [
      "Label Sebenarnya:\n",
      "[1 1 2 ... 3 1 1]\n",
      "\n",
      "Label Prediksi:\n",
      "[1 1 2 ... 3 1 1]\n",
      "\n",
      "Akurasi pada Data Uji: 0.8395833333333333\n"
     ]
    }
   ],
   "source": [
    "svm_poly.fit(flat_feat_trainCNN, Y_train)\n",
    "predictions_test = svm_poly.predict(flat_feat_testCNN)\n",
    "print(\"Label Sebenarnya:\")\n",
    "print(Y_test)\n",
    "print(\"\\nLabel Prediksi:\")\n",
    "print(predictions_test)\n",
    "accuracy_test = np.mean(predictions_test == Y_test)\n",
    "print(\"\\nAkurasi pada Data Uji:\", accuracy_test)"
   ]
  },
  {
   "cell_type": "markdown",
   "metadata": {},
   "source": [
    "Evaluasi"
   ]
  },
  {
   "cell_type": "code",
   "execution_count": 30,
   "metadata": {},
   "outputs": [
    {
     "name": "stdout",
     "output_type": "stream",
     "text": [
      "Classification Report:\n",
      "              precision    recall  f1-score   support\n",
      "\n",
      "           0       0.88      0.86      0.87       380\n",
      "           1       0.82      0.83      0.83       338\n",
      "           2       0.79      0.87      0.83       363\n",
      "           3       0.87      0.79      0.83       359\n",
      "\n",
      "    accuracy                           0.84      1440\n",
      "   macro avg       0.84      0.84      0.84      1440\n",
      "weighted avg       0.84      0.84      0.84      1440\n",
      "\n"
     ]
    }
   ],
   "source": [
    "predictions_test = svm_poly.predict(flat_feat_testCNN)\n",
    "\n",
    "# Membuat classification report\n",
    "classification_rep = classification_report(Y_test, predictions_test)\n",
    "print(\"Classification Report:\")\n",
    "print(classification_rep)"
   ]
  },
  {
   "cell_type": "code",
   "execution_count": 31,
   "metadata": {},
   "outputs": [
    {
     "name": "stdout",
     "output_type": "stream",
     "text": [
      "Classification Report untuk Data Pelatihan:\n",
      "              precision    recall  f1-score   support\n",
      "\n",
      "           0       0.98      0.98      0.98      1420\n",
      "           1       0.97      0.97      0.97      1462\n",
      "           2       0.96      0.98      0.97      1437\n",
      "           3       0.99      0.96      0.98      1441\n",
      "\n",
      "    accuracy                           0.97      5760\n",
      "   macro avg       0.97      0.97      0.97      5760\n",
      "weighted avg       0.97      0.97      0.97      5760\n",
      "\n"
     ]
    }
   ],
   "source": [
    "#  Classification report data train\n",
    "\n",
    "predictions_train = svm_poly.predict(flat_feat_trainCNN)\n",
    "classification_rep_train = classification_report(Y_train, predictions_train)\n",
    "print(\"Classification Report untuk Data Pelatihan:\")\n",
    "print(classification_rep_train)"
   ]
  },
  {
   "cell_type": "code",
   "execution_count": 32,
   "metadata": {},
   "outputs": [
    {
     "data": {
      "image/png": "[encoded data removed]",
      "text/plain": [
       "<Figure size 800x500 with 1 Axes>"
      ]
     },
     "metadata": {},
     "output_type": "display_data"
    }
   ],
   "source": [
    "plt.figure(figsize=(8, 5))\n",
    "plt.plot(range(1, 6), scores_poly, marker='o', linestyle='-', color='blue')\n",
    "plt.xlabel('Fold')\n",
    "plt.ylabel('Accuracy Score')\n",
    "plt.title('Cross-Validation Scores')\n",
    "plt.grid(True)\n",
    "plt.show()"
   ]
  },
  {
   "cell_type": "code",
   "execution_count": 33,
   "metadata": {},
   "outputs": [
    {
     "data": {
      "image/png": "[encoded data removed]",
      "text/plain": [
       "<Figure size 640x480 with 2 Axes>"
      ]
     },
     "metadata": {},
     "output_type": "display_data"
    }
   ],
   "source": [
    "predictions_test = svm_poly.predict(flat_feat_testCNN)\n",
    "\n",
    "conf_matrix_poly = confusion_matrix(Y_test, predictions_test)\n",
    "\n",
    "# Membuat heatmap untuk confusion matrix\n",
    "sns.heatmap(conf_matrix_poly, annot=True, fmt='g', cmap=\"viridis\", xticklabels=class_names, yticklabels=class_names)\n",
    "plt.title('Confusion Matrix')\n",
    "plt.xlabel('Prediksi Model')\n",
    "plt.ylabel('Label Sebenarnya')\n",
    "plt.show()"
   ]
  },
  {
   "cell_type": "code",
   "execution_count": 34,
   "metadata": {},
   "outputs": [
    {
     "name": "stdout",
     "output_type": "stream",
     "text": [
      "Sensitivity: 0.9429530201342282\n",
      "Specificity: 0.9589442815249267\n"
     ]
    }
   ],
   "source": [
    "sensitivity = conf_matrix_poly[1, 1] / (conf_matrix_poly[1, 0] + conf_matrix_poly[1, 1])\n",
    "specificity = conf_matrix_poly[0, 0] / (conf_matrix_poly[0, 0] + conf_matrix_poly[0, 1])\n",
    "\n",
    "print(\"Sensitivity:\", sensitivity)\n",
    "print(\"Specificity:\", specificity)"
   ]
  },
  {
   "cell_type": "code",
   "execution_count": 35,
   "metadata": {},
   "outputs": [
    {
     "name": "stdout",
     "output_type": "stream",
     "text": [
      "Sensitivity untuk Data Pelatihan: 0.99302649930265\n",
      "Specificity untuk Data Pelatihan: 0.9942652329749104\n"
     ]
    }
   ],
   "source": [
    "# Data train\n",
    "predictions_train = svm_poly.predict(flat_feat_trainCNN)\n",
    "conf_matrix_train = confusion_matrix(Y_train, predictions_train)\n",
    "sensitivity_train = conf_matrix_train[1, 1] / (conf_matrix_train[1, 0] + conf_matrix_train[1, 1])\n",
    "specificity_train = conf_matrix_train[0, 0] / (conf_matrix_train[0, 0] + conf_matrix_train[0, 1])\n",
    "\n",
    "# Menampilkan hasil\n",
    "print(\"Sensitivity untuk Data Pelatihan:\", sensitivity_train)\n",
    "print(\"Specificity untuk Data Pelatihan:\", specificity_train)"
   ]
  }
 ],
 "metadata": {
  "kernelspec": {
   "display_name": "Python 3",
   "language": "python",
   "name": "python3"
  },
  "language_info": {
   "codemirror_mode": {
    "name": "ipython",
    "version": 3
   },
   "file_extension": ".py",
   "mimetype": "text/x-python",
   "name": "python",
   "nbconvert_exporter": "python",
   "pygments_lexer": "ipython3",
   "version": "3.10.0"
  }
 },
 "nbformat": 4,
 "nbformat_minor": 2
}
